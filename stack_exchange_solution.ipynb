{
 "cells": [
  {
   "cell_type": "code",
   "execution_count": 1,
   "id": "eaa17028",
   "metadata": {},
   "outputs": [],
   "source": [
    "import requests\n",
    "from bs4 import BeautifulSoup\n",
    "import csv\n",
    "from itertools import zip_longest"
   ]
  },
  {
   "cell_type": "code",
   "execution_count": 2,
   "id": "592981ba",
   "metadata": {},
   "outputs": [],
   "source": [
    "urls = ['https://stackexchange.com/search?q=machine+learning&page=' + str(i) for i in range(1,5)]"
   ]
  },
  {
   "cell_type": "code",
   "execution_count": 3,
   "id": "54540040",
   "metadata": {},
   "outputs": [
    {
     "name": "stdout",
     "output_type": "stream",
     "text": [
      "['https://stackexchange.com/search?q=machine+learning&page=1', 'https://stackexchange.com/search?q=machine+learning&page=2', 'https://stackexchange.com/search?q=machine+learning&page=3', 'https://stackexchange.com/search?q=machine+learning&page=4']\n"
     ]
    }
   ],
   "source": [
    "print(urls)"
   ]
  },
  {
   "cell_type": "code",
   "execution_count": 4,
   "id": "13877434",
   "metadata": {},
   "outputs": [],
   "source": [
    "titles=[]\n",
    "dates = []\n",
    "tags = []\n",
    "links = []"
   ]
  },
  {
   "cell_type": "code",
   "execution_count": 5,
   "id": "d5c39cf9",
   "metadata": {},
   "outputs": [],
   "source": [
    "for i in range(len(urls)):\n",
    "    result = requests.get(urls[i])\n",
    "    src = result.content\n",
    "    soup = BeautifulSoup(src , \"lxml\")\n",
    "    title = soup.find_all(\"div\",{\"class\":\"result-link\"})\n",
    "    date = soup.find_all(\"span\",{\"class\":\"relativetime\"})\n",
    "    tag = soup.find_all(\"div\",{\"class\":\"tags user-tags\"})\n",
    "    for i in range(len(title)):\n",
    "        titles.append(title[i].text)\n",
    "        dates.append(date[i].text)\n",
    "        tags.append(tag[i].text)\n",
    "        links.append(title[i].find(\"a\").attrs['href'])\n"
   ]
  },
  {
   "cell_type": "code",
   "execution_count": 6,
   "id": "af181af6",
   "metadata": {},
   "outputs": [
    {
     "name": "stdout",
     "output_type": "stream",
     "text": [
      "60\n",
      "60\n",
      "60\n",
      "60\n"
     ]
    }
   ],
   "source": [
    "print(len(titles))\n",
    "print(len(dates))\n",
    "print(len(tags))\n",
    "print(len(links))"
   ]
  },
  {
   "cell_type": "code",
   "execution_count": 7,
   "id": "bea549ea",
   "metadata": {},
   "outputs": [
    {
     "name": "stdout",
     "output_type": "stream",
     "text": [
      "['\\nMachine Learning con Tensorflow\\n', '\\nMachine Learning Python\\n', '\\nMetricas de machine learning\\n', '\\nMachine Learning Predictions Repeating\\n', '\\nMachine learning\\n', '\\nDoes set theory help understand machine learning or make new machine learning algorithms?\\n', '\\nWhere to start Machine Learning?\\n', '\\nСинонимизировать [машинное-обучение] и [machine-learning]\\n', '\\nResource recommendation for machine learning\\n', '\\nGráfico de Machine Learning\\n', '\\nComparing two textbooks for machine learning\\n', '\\nmachine learning project ideas\\n', '\\nDudas con modelo de SVC (Machine Learning)\\n', '\\nMachine learning model accuracy\\n', '\\nDeep, Machine Learning e IA. Qual suas diferenças?\\n', \"\\nWhat are the main differences between 'Physics machine learning work' and Mainstream Machine Learning?\\n\", '\\nStudying machine learning\\n', \"\\n'Machine learning or robotics related' hyphenation?\\n\", '\\nIs there any difference between statistical learning and machine learning?\\n', '\\nmachine learning model vs time series model?\\n', '\\nMachine Learning usando R e excel\\n', '\\nMachine learning com uma linguagem no servidor e outra linguagem no desktop\\n', '\\nMachine learning: beginner study material.\\n', '\\nResources for Algebraic Machine Learning\\n', '\\nMachine learning with Reject Option\\n', '\\nRename tag [azure-machine-learning] to [azure-machine-learning-studio] and add [azure-machine-learning-service]\\n', '\\nMultivariate time series and machine learning.\\n', '\\nDeep learning versus machine learning\\n', '\\nO que é Overfitting e Underfitting em Machine Learning\\n', '\\nReference Request: Machine Learning from Scratch\\n', '\\nUsar variables ciclicas en Random Forest machine learning\\n', '\\nDúvida python criaçao de modelo machine learning\\n', '\\nWhich machine learning algorithm to use?!\\n', '\\nThe math part of machine learning\\n', '\\nMachine learning and Condensed Matter Physics\\n', '\\nProbability formula in machine learning\\n', '\\nDoes chemistry need machine learning?\\n', '\\nTextbook recommendation on rigorous machine learning results\\n', '\\nShould [azure-machine-learning-service] be renamed as [azure-machine-learning]?\\n', '\\nMachine learning on or of some data?\\n', '\\nMachine Learning Suggestions\\n', '\\nMachine-learning Overview\\n', '\\nIs Machine Learning+Neural Layers=Deep Learning?\\n', '\\nMathematical introduction to machine learning\\n', '\\nBuilding intuition for tensors in machine learning\\n', '\\nBuilding intuition for tensors in machine learning\\n', '\\nMachine learning systems\\n', '\\nMachine Learning and Probability/Stochastics\\n', '\\nRoadmap to Differential Geometry for Machine Learning\\n', '\\nNewton method and machine learning\\n', '\\nWhat is machine learning?\\n', '\\nHow to translate machine learning?\\n', '\\nAzure Machine Learning\\n', '\\nQual é a definição de Aprendizado de Máquina (Machine Learning)?\\n', '\\nRaspberry Pi for Machine Learning\\n', '\\nWhy are features weighted in machine learning?\\n', '\\nPattern Recognition and Machine Learning Exercise\\n', '\\nMachine learning in Clojure\\n', '\\nKAA Machine learning\\n', '\\nPorcentagem de acerto Machine Learning utilizando sklearn\\n']\n"
     ]
    }
   ],
   "source": [
    "print(titles)"
   ]
  },
  {
   "cell_type": "code",
   "execution_count": 8,
   "id": "531788c1",
   "metadata": {},
   "outputs": [],
   "source": [
    "titles = [titles[i].replace(\"\\n\",\"\") for i in  range(len(titles))]\n",
    "tags = [tags[i].replace(\"\\n\",\"\") for i in  range(len(tags))]"
   ]
  },
  {
   "cell_type": "code",
   "execution_count": 9,
   "id": "54b2462d",
   "metadata": {},
   "outputs": [
    {
     "data": {
      "text/plain": [
       "['python machine-learning tensorflow keras scikit-learn ',\n",
       " 'python-3.x machine-learning sklearn ',\n",
       " 'r aprendizagem-de-máquina ',\n",
       " 'apex schedulebatch aws ',\n",
       " 'meaning phrase-meaning ',\n",
       " 'elementary-set-theory machine-learning advice ',\n",
       " 'machine-learning ',\n",
       " 'предложение статус-завершено метки синонимы-меток ',\n",
       " 'resource-recommendations computational-physics software computer ',\n",
       " 'python aprendizagem-de-máquina gráfico machine-learning ',\n",
       " 'reference-request statistical-inference machine-learning artificial-intelligence ',\n",
       " 'sequences-and-series problem-solving machine-learning ',\n",
       " 'python python-3.x machine-learning scikit-learn ',\n",
       " 'machine-learning ',\n",
       " 'terminologia inteligência-artificial machine-learning ',\n",
       " 'thermodynamics ',\n",
       " 'reference-request machine-learning ',\n",
       " 'hyphenation dashes ',\n",
       " 'probability statistics machine-learning bayesian-network ',\n",
       " 'machine-learning time-series ',\n",
       " 'r excel ',\n",
       " 'python característica-linguagem machine-learning ',\n",
       " 'reference-request self-learning machine-learning ',\n",
       " 'abstract-algebra reference-request category-theory machine-learning ',\n",
       " 'machine-learning ',\n",
       " 'discussion status-completed tags retag-request tag-disambiguation ',\n",
       " 'time-series ',\n",
       " 'machine-learning neural-network deep-learning ',\n",
       " 'machine-learning ',\n",
       " 'reference-request computer-science book-recommendation machine-learning ',\n",
       " 'python machine-learning ',\n",
       " 'python machine-learning ',\n",
       " 'regression machine-learning ',\n",
       " 'machine-learning ',\n",
       " 'condensed-matter computational-physics phase-transition ising-model ',\n",
       " 'probability ',\n",
       " 'computational-chemistry machine-learning ',\n",
       " 'probability-theory statistics reference-request machine-learning ',\n",
       " 'discussion tags ',\n",
       " 'grammar terminology programming ',\n",
       " 'azure-machine-learning-studio ',\n",
       " 'machine-learning analytics enterprise ',\n",
       " 'machine-learning deep-learning ',\n",
       " 'reference-request self-learning machine-learning ',\n",
       " 'reference-request tensors machine-learning ',\n",
       " 'reference-request tensors machine-learning ',\n",
       " 'machine-learning ',\n",
       " 'soft-question machine-learning stochastic-analysis career-development ',\n",
       " 'differential-geometry machine-learning ',\n",
       " 'newton-raphson ',\n",
       " 'machine-learning definition ',\n",
       " 'word-comparison contemporary-latin technology science terminology ',\n",
       " 'azure machine-learning ',\n",
       " 'terminologia inteligência-artificial aprendizagem-de-máquina ',\n",
       " 'cluster ',\n",
       " 'machine-learning ',\n",
       " 'linear-algebra matrices machine-learning pattern-recognition ',\n",
       " 'clojure machine-learning numeric symbolic-math ',\n",
       " 'machine-learning kaa ',\n",
       " 'python machine-learning sklearn ']"
      ]
     },
     "execution_count": 9,
     "metadata": {},
     "output_type": "execute_result"
    }
   ],
   "source": [
    "tags"
   ]
  },
  {
   "cell_type": "code",
   "execution_count": 10,
   "id": "0a493a3d",
   "metadata": {},
   "outputs": [
    {
     "name": "stdout",
     "output_type": "stream",
     "text": [
      "Porcentagem de acerto Machine Learning utilizando sklearn\n"
     ]
    }
   ],
   "source": [
    "print(titles[59])"
   ]
  },
  {
   "cell_type": "code",
   "execution_count": 11,
   "id": "409136ef",
   "metadata": {},
   "outputs": [],
   "source": [
    "file_list = [titles,dates,tags,links]\n",
    "exported = zip_longest(*file_list)\n",
    "with open(r'D:\\interview\\scraping\\stack_exchange.csv', 'w',encoding='UTF-8',newline='') as csvfile:\n",
    "    csvwriter = csv.writer(csvfile, delimiter=',')\n",
    "    csvwriter.writerow(['titles','dates','tags','links'])\n",
    "    csvwriter.writerows(exported)    "
   ]
  },
  {
   "cell_type": "code",
   "execution_count": 12,
   "id": "aec634af",
   "metadata": {},
   "outputs": [],
   "source": [
    "import pandas as pd"
   ]
  },
  {
   "cell_type": "code",
   "execution_count": 13,
   "id": "3d4b51d0",
   "metadata": {},
   "outputs": [],
   "source": [
    "data = pd.read_csv(r'D:\\interview\\scraping\\stack_exchange.csv')"
   ]
  },
  {
   "cell_type": "code",
   "execution_count": 14,
   "id": "e4198221",
   "metadata": {},
   "outputs": [
    {
     "data": {
      "text/html": [
       "<div>\n",
       "<style scoped>\n",
       "    .dataframe tbody tr th:only-of-type {\n",
       "        vertical-align: middle;\n",
       "    }\n",
       "\n",
       "    .dataframe tbody tr th {\n",
       "        vertical-align: top;\n",
       "    }\n",
       "\n",
       "    .dataframe thead th {\n",
       "        text-align: right;\n",
       "    }\n",
       "</style>\n",
       "<table border=\"1\" class=\"dataframe\">\n",
       "  <thead>\n",
       "    <tr style=\"text-align: right;\">\n",
       "      <th></th>\n",
       "      <th>titles</th>\n",
       "      <th>dates</th>\n",
       "      <th>tags</th>\n",
       "      <th>links</th>\n",
       "    </tr>\n",
       "  </thead>\n",
       "  <tbody>\n",
       "    <tr>\n",
       "      <th>0</th>\n",
       "      <td>Machine Learning con Tensorflow</td>\n",
       "      <td>Aug 20 at 3:05</td>\n",
       "      <td>python machine-learning tensorflow keras sciki...</td>\n",
       "      <td>https://es.stackoverflow.com/questions/478184/...</td>\n",
       "    </tr>\n",
       "    <tr>\n",
       "      <th>1</th>\n",
       "      <td>Machine Learning Python</td>\n",
       "      <td>Jan 27, 2019 at 20:59</td>\n",
       "      <td>python-3.x machine-learning sklearn</td>\n",
       "      <td>https://pt.stackoverflow.com/questions/358726/...</td>\n",
       "    </tr>\n",
       "    <tr>\n",
       "      <th>2</th>\n",
       "      <td>Metricas de machine learning</td>\n",
       "      <td>Nov 10, 2016 at 1:22</td>\n",
       "      <td>r aprendizagem-de-máquina</td>\n",
       "      <td>https://pt.stackoverflow.com/questions/164562/...</td>\n",
       "    </tr>\n",
       "    <tr>\n",
       "      <th>3</th>\n",
       "      <td>Machine Learning Predictions Repeating</td>\n",
       "      <td>Jan 13, 2016 at 19:54</td>\n",
       "      <td>apex schedulebatch aws</td>\n",
       "      <td>https://salesforce.stackexchange.com/questions...</td>\n",
       "    </tr>\n",
       "    <tr>\n",
       "      <th>4</th>\n",
       "      <td>Machine learning</td>\n",
       "      <td>Apr 7, 2018 at 13:42</td>\n",
       "      <td>meaning phrase-meaning</td>\n",
       "      <td>https://english.stackexchange.com/questions/44...</td>\n",
       "    </tr>\n",
       "  </tbody>\n",
       "</table>\n",
       "</div>"
      ],
      "text/plain": [
       "                                   titles                  dates  \\\n",
       "0         Machine Learning con Tensorflow         Aug 20 at 3:05   \n",
       "1                 Machine Learning Python  Jan 27, 2019 at 20:59   \n",
       "2            Metricas de machine learning   Nov 10, 2016 at 1:22   \n",
       "3  Machine Learning Predictions Repeating  Jan 13, 2016 at 19:54   \n",
       "4                        Machine learning   Apr 7, 2018 at 13:42   \n",
       "\n",
       "                                                tags  \\\n",
       "0  python machine-learning tensorflow keras sciki...   \n",
       "1               python-3.x machine-learning sklearn    \n",
       "2                         r aprendizagem-de-máquina    \n",
       "3                            apex schedulebatch aws    \n",
       "4                            meaning phrase-meaning    \n",
       "\n",
       "                                               links  \n",
       "0  https://es.stackoverflow.com/questions/478184/...  \n",
       "1  https://pt.stackoverflow.com/questions/358726/...  \n",
       "2  https://pt.stackoverflow.com/questions/164562/...  \n",
       "3  https://salesforce.stackexchange.com/questions...  \n",
       "4  https://english.stackexchange.com/questions/44...  "
      ]
     },
     "execution_count": 14,
     "metadata": {},
     "output_type": "execute_result"
    }
   ],
   "source": [
    "data.head()"
   ]
  },
  {
   "cell_type": "code",
   "execution_count": 15,
   "id": "4c718258",
   "metadata": {
    "scrolled": true
   },
   "outputs": [
    {
     "data": {
      "text/html": [
       "<div>\n",
       "<style scoped>\n",
       "    .dataframe tbody tr th:only-of-type {\n",
       "        vertical-align: middle;\n",
       "    }\n",
       "\n",
       "    .dataframe tbody tr th {\n",
       "        vertical-align: top;\n",
       "    }\n",
       "\n",
       "    .dataframe thead th {\n",
       "        text-align: right;\n",
       "    }\n",
       "</style>\n",
       "<table border=\"1\" class=\"dataframe\">\n",
       "  <thead>\n",
       "    <tr style=\"text-align: right;\">\n",
       "      <th></th>\n",
       "      <th>titles</th>\n",
       "      <th>dates</th>\n",
       "      <th>tags</th>\n",
       "      <th>links</th>\n",
       "    </tr>\n",
       "  </thead>\n",
       "  <tbody>\n",
       "    <tr>\n",
       "      <th>55</th>\n",
       "      <td>Why are features weighted in machine learning?</td>\n",
       "      <td>May 29, 2017 at 16:12</td>\n",
       "      <td>machine-learning</td>\n",
       "      <td>https://math.stackexchange.com/questions/23016...</td>\n",
       "    </tr>\n",
       "    <tr>\n",
       "      <th>56</th>\n",
       "      <td>Pattern Recognition and Machine Learning Exercise</td>\n",
       "      <td>Mar 20, 2018 at 2:43</td>\n",
       "      <td>linear-algebra matrices machine-learning patte...</td>\n",
       "      <td>https://math.stackexchange.com/questions/26997...</td>\n",
       "    </tr>\n",
       "    <tr>\n",
       "      <th>57</th>\n",
       "      <td>Machine learning in Clojure</td>\n",
       "      <td>Jun 15, 2015 at 17:13</td>\n",
       "      <td>clojure machine-learning numeric symbolic-math</td>\n",
       "      <td>https://stackoverflow.com/questions/30851073/m...</td>\n",
       "    </tr>\n",
       "    <tr>\n",
       "      <th>58</th>\n",
       "      <td>KAA Machine learning</td>\n",
       "      <td>Jul 25, 2017 at 10:13</td>\n",
       "      <td>machine-learning kaa</td>\n",
       "      <td>https://stackoverflow.com/questions/45300242/k...</td>\n",
       "    </tr>\n",
       "    <tr>\n",
       "      <th>59</th>\n",
       "      <td>Porcentagem de acerto Machine Learning utiliza...</td>\n",
       "      <td>May 23 at 15:46</td>\n",
       "      <td>python machine-learning sklearn</td>\n",
       "      <td>https://pt.stackoverflow.com/questions/553623/...</td>\n",
       "    </tr>\n",
       "  </tbody>\n",
       "</table>\n",
       "</div>"
      ],
      "text/plain": [
       "                                               titles                  dates  \\\n",
       "55     Why are features weighted in machine learning?  May 29, 2017 at 16:12   \n",
       "56  Pattern Recognition and Machine Learning Exercise   Mar 20, 2018 at 2:43   \n",
       "57                        Machine learning in Clojure  Jun 15, 2015 at 17:13   \n",
       "58                               KAA Machine learning  Jul 25, 2017 at 10:13   \n",
       "59  Porcentagem de acerto Machine Learning utiliza...        May 23 at 15:46   \n",
       "\n",
       "                                                 tags  \\\n",
       "55                                  machine-learning    \n",
       "56  linear-algebra matrices machine-learning patte...   \n",
       "57    clojure machine-learning numeric symbolic-math    \n",
       "58                              machine-learning kaa    \n",
       "59                   python machine-learning sklearn    \n",
       "\n",
       "                                                links  \n",
       "55  https://math.stackexchange.com/questions/23016...  \n",
       "56  https://math.stackexchange.com/questions/26997...  \n",
       "57  https://stackoverflow.com/questions/30851073/m...  \n",
       "58  https://stackoverflow.com/questions/45300242/k...  \n",
       "59  https://pt.stackoverflow.com/questions/553623/...  "
      ]
     },
     "execution_count": 15,
     "metadata": {},
     "output_type": "execute_result"
    }
   ],
   "source": [
    "data.tail()"
   ]
  },
  {
   "cell_type": "code",
   "execution_count": null,
   "id": "f8532f98",
   "metadata": {},
   "outputs": [],
   "source": []
  },
  {
   "cell_type": "code",
   "execution_count": null,
   "id": "07158776",
   "metadata": {},
   "outputs": [],
   "source": []
  },
  {
   "cell_type": "code",
   "execution_count": null,
   "id": "eb5b0b56",
   "metadata": {},
   "outputs": [],
   "source": []
  },
  {
   "cell_type": "code",
   "execution_count": null,
   "id": "91845a58",
   "metadata": {},
   "outputs": [],
   "source": []
  },
  {
   "cell_type": "code",
   "execution_count": null,
   "id": "1ffd9f29",
   "metadata": {},
   "outputs": [],
   "source": []
  }
 ],
 "metadata": {
  "kernelspec": {
   "display_name": "Python 3 (ipykernel)",
   "language": "python",
   "name": "python3"
  },
  "language_info": {
   "codemirror_mode": {
    "name": "ipython",
    "version": 3
   },
   "file_extension": ".py",
   "mimetype": "text/x-python",
   "name": "python",
   "nbconvert_exporter": "python",
   "pygments_lexer": "ipython3",
   "version": "3.9.7"
  }
 },
 "nbformat": 4,
 "nbformat_minor": 5
}
